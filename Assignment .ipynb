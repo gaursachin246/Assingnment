{
 "cells": [
  {
   "cell_type": "code",
   "execution_count": 6,
   "id": "6a2c99fd-939a-4b6e-9fc3-c24ccafa8a05",
   "metadata": {},
   "outputs": [],
   "source": [
    "a = 5.52"
   ]
  },
  {
   "cell_type": "code",
   "execution_count": 7,
   "id": "dc76048a-a20c-4592-9961-ea77055a30b2",
   "metadata": {},
   "outputs": [
    {
     "data": {
      "text/plain": [
       "float"
      ]
     },
     "execution_count": 7,
     "metadata": {},
     "output_type": "execute_result"
    }
   ],
   "source": [
    "type(a)"
   ]
  },
  {
   "cell_type": "code",
   "execution_count": 19,
   "id": "cd9e61fe-2ab3-4a29-9d47-965b7b693f62",
   "metadata": {},
   "outputs": [],
   "source": [
    "var1 = 'sachin'"
   ]
  },
  {
   "cell_type": "code",
   "execution_count": 21,
   "id": "f454413c-8f55-4adf-8435-bf827f55c88a",
   "metadata": {},
   "outputs": [
    {
     "data": {
      "text/plain": [
       "str"
      ]
     },
     "execution_count": 21,
     "metadata": {},
     "output_type": "execute_result"
    }
   ],
   "source": [
    "type(var1)"
   ]
  },
  {
   "cell_type": "code",
   "execution_count": 22,
   "id": "1f7af4ee-e296-4b78-b8be-9d3c272fd118",
   "metadata": {},
   "outputs": [],
   "source": [
    "var2 = '[rohan , 2511 , python , class ]'"
   ]
  },
  {
   "cell_type": "code",
   "execution_count": 23,
   "id": "ab2c6977-903b-48c2-ba20-894635d5effa",
   "metadata": {},
   "outputs": [
    {
     "data": {
      "text/plain": [
       "str"
      ]
     },
     "execution_count": 23,
     "metadata": {},
     "output_type": "execute_result"
    }
   ],
   "source": [
    "type(var2)"
   ]
  },
  {
   "cell_type": "code",
   "execution_count": 24,
   "id": "1c8ec6e7-db51-43bb-aebd-2df6595d2199",
   "metadata": {},
   "outputs": [],
   "source": [
    "var3 = ['ravi' , 'pwskills' , 'task' , 'durgesh']"
   ]
  },
  {
   "cell_type": "code",
   "execution_count": 27,
   "id": "ca01315d-5c3f-46af-bc45-ec88310de564",
   "metadata": {},
   "outputs": [
    {
     "data": {
      "text/plain": [
       "list"
      ]
     },
     "execution_count": 27,
     "metadata": {},
     "output_type": "execute_result"
    }
   ],
   "source": [
    "type(var3)"
   ]
  },
  {
   "cell_type": "code",
   "execution_count": 28,
   "id": "964a16c7-69d6-4e8e-997a-756e46182e2e",
   "metadata": {},
   "outputs": [],
   "source": [
    "var4 = 1."
   ]
  },
  {
   "cell_type": "code",
   "execution_count": 29,
   "id": "fe6b36ac-5fe8-47ab-ace8-6034260399e8",
   "metadata": {},
   "outputs": [
    {
     "data": {
      "text/plain": [
       "float"
      ]
     },
     "execution_count": 29,
     "metadata": {},
     "output_type": "execute_result"
    }
   ],
   "source": [
    "type(var4)"
   ]
  },
  {
   "cell_type": "code",
   "execution_count": 30,
   "id": "d07fdcb1-5dc5-4d51-8b75-720c5d43d0e8",
   "metadata": {},
   "outputs": [
    {
     "data": {
      "text/plain": [
       "5.0"
      ]
     },
     "execution_count": 30,
     "metadata": {},
     "output_type": "execute_result"
    }
   ],
   "source": [
    "25/5"
   ]
  },
  {
   "cell_type": "code",
   "execution_count": 31,
   "id": "2000fc38-c551-4985-9968-1d1b37169cca",
   "metadata": {},
   "outputs": [
    {
     "data": {
      "text/plain": [
       "1924"
      ]
     },
     "execution_count": 31,
     "metadata": {},
     "output_type": "execute_result"
    }
   ],
   "source": [
    "26*74"
   ]
  },
  {
   "cell_type": "code",
   "execution_count": 35,
   "id": "310acfd0-3f6a-4d25-bc19-dae51229a9d9",
   "metadata": {},
   "outputs": [
    {
     "data": {
      "text/plain": [
       "1"
      ]
     },
     "execution_count": 35,
     "metadata": {},
     "output_type": "execute_result"
    }
   ],
   "source": [
    "10%3"
   ]
  },
  {
   "cell_type": "code",
   "execution_count": 34,
   "id": "e515c818-47c6-438d-86bf-70bcb965eb22",
   "metadata": {},
   "outputs": [
    {
     "data": {
      "text/plain": [
       "625"
      ]
     },
     "execution_count": 34,
     "metadata": {},
     "output_type": "execute_result"
    }
   ],
   "source": [
    "25**2"
   ]
  },
  {
   "cell_type": "code",
   "execution_count": 37,
   "id": "36c5a050-da3a-4cd1-920f-849a60df4690",
   "metadata": {},
   "outputs": [
    {
     "data": {
      "text/plain": [
       "34"
      ]
     },
     "execution_count": 37,
     "metadata": {},
     "output_type": "execute_result"
    }
   ],
   "source": [
    "852//25"
   ]
  },
  {
   "cell_type": "code",
   "execution_count": 38,
   "id": "7ee2a998-233a-4a83-a39d-61e6b8466d2c",
   "metadata": {},
   "outputs": [],
   "source": [
    "l =  [\"same\" , \"pwskills\" , True , False , 1,2, 23.4, (1,3,4),8+9j,{3,6,7} ]"
   ]
  },
  {
   "cell_type": "code",
   "execution_count": 39,
   "id": "3449ef4e-9b36-410e-8dd3-34debcf5a315",
   "metadata": {},
   "outputs": [
    {
     "name": "stdout",
     "output_type": "stream",
     "text": [
      "<class 'str'>\n",
      "<class 'str'>\n",
      "<class 'bool'>\n",
      "<class 'bool'>\n",
      "<class 'int'>\n",
      "<class 'int'>\n",
      "<class 'float'>\n",
      "<class 'tuple'>\n",
      "<class 'complex'>\n",
      "<class 'set'>\n"
     ]
    }
   ],
   "source": [
    "for i in l :\n",
    "    print(type(i))"
   ]
  },
  {
   "cell_type": "code",
   "execution_count": 40,
   "id": "9e5a2baa-3481-44ad-9133-4c73a5c594aa",
   "metadata": {},
   "outputs": [],
   "source": [
    "k = [\"achin\" , \"sudh\" , True , (6+8j) , 258.25 ]"
   ]
  },
  {
   "cell_type": "code",
   "execution_count": 41,
   "id": "7ef66701-0f81-4b19-ad55-fb9a373509a6",
   "metadata": {},
   "outputs": [],
   "source": [
    "k2 = [252, \"plus\" , 2055.00 ,]"
   ]
  },
  {
   "cell_type": "code",
   "execution_count": 42,
   "id": "89604e76-4b15-434f-8c1b-6df16cfc3bf7",
   "metadata": {},
   "outputs": [
    {
     "data": {
      "text/plain": [
       "['achin', 'sudh', True, (6+8j), 258.25, 252, 'plus', 2055.0]"
      ]
     },
     "execution_count": 42,
     "metadata": {},
     "output_type": "execute_result"
    }
   ],
   "source": [
    "k+k2"
   ]
  },
  {
   "cell_type": "code",
   "execution_count": 43,
   "id": "5ce1ca21-9319-48b1-9ea2-7289a0f88a25",
   "metadata": {},
   "outputs": [],
   "source": [
    "k.append(\"data\")"
   ]
  },
  {
   "cell_type": "code",
   "execution_count": 44,
   "id": "3586e503-1b19-4dd9-81ee-c85b58f90537",
   "metadata": {},
   "outputs": [
    {
     "data": {
      "text/plain": [
       "['achin', 'sudh', True, (6+8j), 258.25, 'data']"
      ]
     },
     "execution_count": 44,
     "metadata": {},
     "output_type": "execute_result"
    }
   ],
   "source": [
    "k"
   ]
  },
  {
   "cell_type": "code",
   "execution_count": null,
   "id": "779d7c18-c201-492e-9d19-2f550b7c9a3b",
   "metadata": {},
   "outputs": [],
   "source": []
  }
 ],
 "metadata": {
  "kernelspec": {
   "display_name": "Python 3 (ipykernel)",
   "language": "python",
   "name": "python3"
  },
  "language_info": {
   "codemirror_mode": {
    "name": "ipython",
    "version": 3
   },
   "file_extension": ".py",
   "mimetype": "text/x-python",
   "name": "python",
   "nbconvert_exporter": "python",
   "pygments_lexer": "ipython3",
   "version": "3.10.8"
  }
 },
 "nbformat": 4,
 "nbformat_minor": 5
}
